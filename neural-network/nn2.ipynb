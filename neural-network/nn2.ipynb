{
 "cells": [
  {
   "cell_type": "code",
   "execution_count": 1,
   "metadata": {},
   "outputs": [],
   "source": [
    "import matplotlib.pyplot as plt\n",
    "import numpy as np"
   ]
  },
  {
   "cell_type": "code",
   "execution_count": 2,
   "metadata": {},
   "outputs": [],
   "source": [
    "x1= 1.5\n",
    "x2= 0.625\n",
    "y = 0.5"
   ]
  },
  {
   "cell_type": "code",
   "execution_count": 3,
   "metadata": {},
   "outputs": [
    {
     "name": "stdout",
     "output_type": "stream",
     "text": [
      "[0.26809997] [-0.30370239]\n"
     ]
    }
   ],
   "source": [
    "w1 = np.random.randn(1)\n",
    "w2 = np.random.randn(1)\n",
    "print(w1,w2)"
   ]
  },
  {
   "cell_type": "code",
   "execution_count": 4,
   "metadata": {},
   "outputs": [
    {
     "name": "stdout",
     "output_type": "stream",
     "text": [
      "[0.43150671] [-0.23561624]\n"
     ]
    }
   ],
   "source": [
    "epochs = 20\n",
    "alpha = 0.1\n",
    "\n",
    "for epoch in range(epochs):\n",
    "    # forward pass\n",
    "    y_out = x1*w1 + x2*w2\n",
    "    #compute the error\n",
    "    error = np.square(y-y_out)\n",
    "\n",
    "    #compute the gradient\n",
    "    gradient1= -2 * ( y- y_out)*x1\n",
    "    gradient2 = -2 *(y - y_out) * x2\n",
    "\n",
    "    #backpropage the error\n",
    "    w1 = w1 - gradient1*alpha\n",
    "    w2 = w2 -gradient2*alpha\n",
    "print(w1,w2)"
   ]
  },
  {
   "cell_type": "code",
   "execution_count": 5,
   "metadata": {},
   "outputs": [
    {
     "name": "stdout",
     "output_type": "stream",
     "text": [
      "[0.49999979]\n"
     ]
    }
   ],
   "source": [
    "def output(x1, x2 , w1, w2):\n",
    "    return x1*w1 + x2*w2\n",
    "\n",
    "print(output(x1,x2,w1, w2))"
   ]
  }
 ],
 "metadata": {
  "kernelspec": {
   "display_name": "Python 3",
   "language": "python",
   "name": "python3"
  },
  "language_info": {
   "codemirror_mode": {
    "name": "ipython",
    "version": 3
   },
   "file_extension": ".py",
   "mimetype": "text/x-python",
   "name": "python",
   "nbconvert_exporter": "python",
   "pygments_lexer": "ipython3",
   "version": "3.11.6"
  }
 },
 "nbformat": 4,
 "nbformat_minor": 2
}
