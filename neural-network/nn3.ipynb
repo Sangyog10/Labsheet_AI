{
 "cells": [
  {
   "cell_type": "code",
   "execution_count": 6,
   "metadata": {},
   "outputs": [],
   "source": [
    "import matplotlib.pyplot as plt\n",
    "import numpy as np\n"
   ]
  },
  {
   "cell_type": "code",
   "execution_count": 7,
   "metadata": {},
   "outputs": [],
   "source": [
    "x1=5\n",
    "x2=-5\n",
    "y=0.5"
   ]
  },
  {
   "cell_type": "code",
   "execution_count": 8,
   "metadata": {},
   "outputs": [
    {
     "name": "stdout",
     "output_type": "stream",
     "text": [
      "[-0.33499792] [-1.16277597] [1.53116924] [-0.6800144] [-0.18928882] [-0.10917792]\n"
     ]
    }
   ],
   "source": [
    "w11=np.random.randn(1)\n",
    "w12=np.random.randn(1)\n",
    "w21=np.random.randn(1)\n",
    "w22=np.random.randn(1)\n",
    "wh1=np.random.randn(1)\n",
    "wh2=np.random.randn(1)\n",
    "print(w11,w12,w21,w22,wh1,wh2)"
   ]
  },
  {
   "cell_type": "code",
   "execution_count": 9,
   "metadata": {},
   "outputs": [
    {
     "name": "stdout",
     "output_type": "stream",
     "text": [
      "[-0.18928882] [-0.10917792] [0.27142062] [-0.81300616] [0.9247507] [-1.02978421]\n"
     ]
    }
   ],
   "source": [
    "epochs=20\n",
    "alpha=0.1\n",
    "errorList=[]\n",
    "\n",
    "for epoch in range (epochs):\n",
    "    #Forward Pass\n",
    "    h1=x1*w11+x2*w21\n",
    "    h2=x1*w12+x2*w22\n",
    "\n",
    "    y_out=h1*wh1+h2*wh2\n",
    "\n",
    "    #Compute error\n",
    "    error =np.square((y-y_out))\n",
    "    errorList.append(error)\n",
    "\n",
    "    #Compute the gradient of error wrt w\n",
    "    #wh1\n",
    "    gradient1=-2*(y-y_out)*h1\n",
    "    #wh2\n",
    "    gradient2=-2*(y-y_out)*h2\n",
    "    #w11\n",
    "    gradient3=-2*(y-y_out)*wh1*x1\n",
    "    #w12\n",
    "    gradient4=-2*(y-y_out)*wh2*x1\n",
    "    #w21\n",
    "    gradient5=-2*(y-y_out)*x2*wh1\n",
    "    #w22\n",
    "    gradient6=-2*(y-y_out)*x2*wh2\n",
    "\n",
    "    #Back propagate the error\n",
    "    gradient1=wh1-gradient1*alpha\n",
    "    gradient2=wh2-gradient2*alpha\n",
    "    w11=w11-gradient3*alpha\n",
    "    w12=w12-gradient4*alpha\n",
    "    w21=w21-gradient5*alpha\n",
    "    w22=w22-gradient6*alpha\n",
    "    # wList.append(w)\n",
    "\n",
    "print(wh1,wh2,w11,w12,w21,w22)\n"
   ]
  },
  {
   "cell_type": "code",
   "execution_count": 10,
   "metadata": {},
   "outputs": [
    {
     "data": {
      "text/plain": [
       "Text(0.5, 1.0, 'Epochs vs Error')"
      ]
     },
     "execution_count": 10,
     "metadata": {},
     "output_type": "execute_result"
    },
    {
     "data": {
      "image/png": "[encoded data removed]",
      "text/plain": [
       "<Figure size 640x480 with 1 Axes>"
      ]
     },
     "metadata": {},
     "output_type": "display_data"
    }
   ],
   "source": [
    "plt.plot(range(epochs),errorList)\n",
    "plt.xlabel(\"Epochs\")\n",
    "plt.ylabel(\"Error\")\n",
    "plt.title(\"Epochs vs Error\")"
   ]
  },
  {
   "cell_type": "code",
   "execution_count": null,
   "metadata": {},
   "outputs": [],
   "source": []
  }
 ],
 "metadata": {
  "kernelspec": {
   "display_name": "Python 3",
   "language": "python",
   "name": "python3"
  },
  "language_info": {
   "codemirror_mode": {
    "name": "ipython",
    "version": 3
   },
   "file_extension": ".py",
   "mimetype": "text/x-python",
   "name": "python",
   "nbconvert_exporter": "python",
   "pygments_lexer": "ipython3",
   "version": "3.11.6"
  }
 },
 "nbformat": 4,
 "nbformat_minor": 2
}
