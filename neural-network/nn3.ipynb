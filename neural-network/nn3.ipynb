{
 "cells": [
  {
   "cell_type": "code",
   "execution_count": 1,
   "metadata": {},
   "outputs": [],
   "source": [
    "import matplotlib.pyplot as plt\n",
    "import numpy as np"
   ]
  },
  {
   "cell_type": "code",
   "execution_count": 2,
   "metadata": {},
   "outputs": [],
   "source": [
    "x1 = 5\n",
    "x2 = -5\n",
    "y = 0.5"
   ]
  },
  {
   "cell_type": "code",
   "execution_count": 5,
   "metadata": {},
   "outputs": [
    {
     "name": "stdout",
     "output_type": "stream",
     "text": [
      "[[-1.1243555  -0.57749569]\n",
      " [ 1.33872514  2.07937086]] [[0.82834308]\n",
      " [1.10617893]]\n"
     ]
    }
   ],
   "source": [
    "w1h = np.random.randn(2,2)\n",
    "whb = np.random.randn(2,1)\n",
    "print(w1h, whb)"
   ]
  },
  {
   "cell_type": "code",
   "execution_count": 8,
   "metadata": {},
   "outputs": [
    {
     "name": "stdout",
     "output_type": "stream",
     "text": [
      "[[-5.6217775  -2.88747847]\n",
      " [ 6.6936257  10.39685428]]\n"
     ]
    }
   ],
   "source": [
    "h = np.dot(x1, w1h)\n",
    "print(h)"
   ]
  },
  {
   "cell_type": "code",
   "execution_count": null,
   "metadata": {},
   "outputs": [],
   "source": [
    "epochs = 20\n",
    "alpha = 0.1\n",
    "\n",
    "for epoch in range(epochs):\n",
    "    #forward pass\n",
    "    h = np.dot(X, w11h)\n",
    "    \n",
    "    y_out = np.dot(h, whb)\n",
    "\n",
    "    #compute the error\n",
    "    error = np.square()"
   ]
  }
 ],
 "metadata": {
  "kernelspec": {
   "display_name": "Python 3",
   "language": "python",
   "name": "python3"
  },
  "language_info": {
   "codemirror_mode": {
    "name": "ipython",
    "version": 3
   },
   "file_extension": ".py",
   "mimetype": "text/x-python",
   "name": "python",
   "nbconvert_exporter": "python",
   "pygments_lexer": "ipython3",
   "version": "3.11.6"
  }
 },
 "nbformat": 4,
 "nbformat_minor": 2
}
